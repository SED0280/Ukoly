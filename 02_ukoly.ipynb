{
 "cells": [
  {
   "attachments": {},
   "cell_type": "markdown",
   "metadata": {},
   "source": [
    "# Prostory jmen a obor platnosti proměnných:\n",
    "- Upravte funkci nalézající prvočísla tak, aby ukládala již spočítané prvočísla do listu v defaultním argumentu funkce. \n"
   ]
  },
  {
   "cell_type": "code",
   "execution_count": 1,
   "metadata": {},
   "outputs": [
    {
     "name": "stdout",
     "output_type": "stream",
     "text": [
      "[2, 3]\n",
      "[2, 3, 5]\n",
      "[2, 3, 5, 7]\n",
      "[2, 3, 5, 7, 11]\n",
      "[2, 3, 5, 7, 11, 13]\n",
      "[2, 3, 5, 7, 11, 13, 17]\n"
     ]
    }
   ],
   "source": [
    "def prvoc(cisla=[2]):\n",
    "    i=cisla[-1]+1\n",
    "    while(1):\n",
    "        prv = True\n",
    "        for x in cisla:\n",
    "            if (i%x==0):\n",
    "                prv = False\n",
    "                break\n",
    "        if(prv):\n",
    "            cisla.append(i)\n",
    "            return cisla\n",
    "        else:\n",
    "            i+=1\n",
    "\n",
    "print(prvoc())\n",
    "print(prvoc())\n",
    "print(prvoc())\n",
    "print(prvoc())\n",
    "print(prvoc())\n",
    "print(prvoc())"
   ]
  },
  {
   "attachments": {},
   "cell_type": "markdown",
   "metadata": {},
   "source": [
    "\n",
    "# Jupyter magics:\n",
    "- použijte funkci %%writefile a pomocí ní (a kopie funkcí z posledního DU) vytvořte .py soubor sloužící jako modul mající tři funkce viz minulý DU\n",
    "- Použijte magic příkazy %time %timeit %%time a %%timeit k měření času běhu různých částí kódu (například funkcí z minulého DU).\n"
   ]
  },
  {
   "cell_type": "code",
   "execution_count": 2,
   "metadata": {},
   "outputs": [
    {
     "name": "stdout",
     "output_type": "stream",
     "text": [
      "Writing ukol1.py\n"
     ]
    }
   ],
   "source": [
    "\n",
    "%%writefile ukol1.py\n",
    "def mysqrt(x, i):\n",
    "    return mysqrtt(x, i, x)\n",
    "def mysqrtt(x, i, a):\n",
    "    if i>0:\n",
    "        i=i-1\n",
    "        x=mysqrtt(x,i,a)\n",
    "        return (((a/x)+x)/2)\n",
    "    else:\n",
    "        return x\n",
    "print (mysqrt(9,10))\n"
   ]
  },
  {
   "cell_type": "code",
   "execution_count": 3,
   "metadata": {},
   "outputs": [
    {
     "name": "stdout",
     "output_type": "stream",
     "text": [
      "Writing ukol2.py\n"
     ]
    }
   ],
   "source": [
    "%%writefile ukol2.py\n",
    "import math\n",
    "def pii(n):\n",
    "    a = math.sin(math.radians(180)/n)\n",
    "    v = math.cos(math.radians(180)/n)\n",
    "    return a*v*n\n",
    "print(pii(500))"
   ]
  },
  {
   "cell_type": "markdown",
   "metadata": {},
   "source": [
    "\n",
    "# Práce s řetězci:\n",
    "\n",
    "- Použíjte funkce z minulého úkolu a v cyklu spočtěte $\\pi$ s různým $n$. Pomocí f-strings vypište výsledky ve formátu \"n = 5, pi = 3.14159, počet správných cifer = 5\".\n"
   ]
  },
  {
   "cell_type": "code",
   "execution_count": 4,
   "metadata": {},
   "outputs": [
    {
     "name": "stdout",
     "output_type": "stream",
     "text": [
      "n = 5, pi = 3.14159, pocet spravnych cifer = 5\n",
      "3.141592653589793\n"
     ]
    }
   ],
   "source": [
    "import math\n",
    "def piii(n):\n",
    "    sum=0\n",
    "    for i in range(1,n+1):\n",
    "        a=1/16\n",
    "        for j in range(2,i+1):\n",
    "            a*=(2*j-3)/(2*j*4)\n",
    "        sum+=1/(2*i+1)*a\n",
    "    p=12*(-math.sqrt(3)/8+1/2-sum)\n",
    "    dif = p-math.pi\n",
    "    if(dif<0):\n",
    "        dif*=-1\n",
    "    num = -1\n",
    "    while (dif<1):\n",
    "        num+=1\n",
    "        dif*=10\n",
    "    \n",
    "    return (p*10**num-p*10**num%1)/10**num,num\n",
    "n=5\n",
    "p,num = piii(n)\n",
    "print(f\"n = {n}, pi = {p}, pocet spravnych cifer = {num}\")\n",
    "print(math.pi)"
   ]
  },
  {
   "cell_type": "markdown",
   "metadata": {},
   "source": [
    "\n",
    "# Generátory a iterátory:\n",
    "\n",
    "- Napište generátor (funkci), který vytváří Fibonacciho posloupnost a vrátí prvních $n$ členů.\n"
   ]
  },
  {
   "cell_type": "code",
   "execution_count": 5,
   "metadata": {},
   "outputs": [
    {
     "name": "stdout",
     "output_type": "stream",
     "text": [
      "1\n",
      "1\n",
      "2\n",
      "3\n",
      "5\n",
      "8\n",
      "13\n"
     ]
    }
   ],
   "source": [
    "def fibi(n):\n",
    "    cisla=[1,1]\n",
    "    yield 1\n",
    "    yield 1\n",
    "    for i in range(n-2):\n",
    "        cisla.append(cisla[i]+cisla[i+1])\n",
    "        yield cisla[i+2]\n",
    "gen1 = fibi(7)\n",
    "print(next(gen1))\n",
    "print(next(gen1))\n",
    "print(next(gen1))\n",
    "print(next(gen1))\n",
    "print(next(gen1))\n",
    "print(next(gen1))\n",
    "print(next(gen1))"
   ]
  },
  {
   "cell_type": "markdown",
   "metadata": {},
   "source": [
    "\n",
    "# List comprehension:\n",
    "- Vytvořte seznam čísel od 1 do 10 pomocí list comprehension.\n",
    "- Vytvořte seznam druhých mocnin čísel od 1 do 10 pomocí list comprehension.\n",
    "- Vytvořte seznam prvočísel od 1 do 100 pomocí list comprehension. Hint (použijte funkci all() na generátor testující dělitelnost).\n"
   ]
  },
  {
   "cell_type": "code",
   "execution_count": 6,
   "metadata": {},
   "outputs": [
    {
     "name": "stdout",
     "output_type": "stream",
     "text": [
      "[1, 2, 3, 4, 5, 6, 7, 8, 9, 10]\n",
      "[1, 4, 9, 16, 25, 36, 49, 64, 81, 100]\n",
      "[1, 2, 3, 5, 7, 11, 13, 17, 19, 23, 29, 31, 37, 41, 43, 47, 53, 59, 61, 67, 71, 73, 79, 83, 89, 97]\n"
     ]
    }
   ],
   "source": [
    "print([i for i in range(1, 11)])\n",
    "print([i**2 for i in range(1, 11)])\n",
    "def delitelnost(n):\n",
    "    for i in range(2,n):\n",
    "        if (n%i==0):\n",
    "            yield False\n",
    "        else:\n",
    "            yield True\n",
    "print([i for i in range(1, 101) if all(delitelnost(i))])"
   ]
  },
  {
   "cell_type": "markdown",
   "metadata": {},
   "source": [
    "\n",
    "# Práce se soubory:\n",
    "- Pomocí %%writefile vytvořte soubor s nějakým textem.\n",
    "- Otevřete soubor pro čtení a vypište jeho obsah.\n",
    "- Otevřete jiný soubor pro zápis a napište do něj textový řetězec.\n",
    "- Pomocí f-strings zapište do souboru tabulku čísel od 1 do 10, jejich druhých mocnin a jejich druhých odmocnin."
   ]
  },
  {
   "cell_type": "code",
   "execution_count": 7,
   "metadata": {},
   "outputs": [
    {
     "name": "stdout",
     "output_type": "stream",
     "text": [
      "Writing asdf.txt\n"
     ]
    }
   ],
   "source": [
    "%%writefile asdf.txt\n",
    "asdf\n",
    "qwer\n",
    "yxcv"
   ]
  },
  {
   "cell_type": "code",
   "execution_count": 8,
   "metadata": {},
   "outputs": [
    {
     "name": "stdout",
     "output_type": "stream",
     "text": [
      "asdf\n",
      "qwer\n",
      "yxcv\n",
      "\n"
     ]
    }
   ],
   "source": [
    "soubor = open(\"asdf.txt\", \"r\")\n",
    "print(soubor.read())\n",
    "soubor.close()\n",
    "with open(\"qwer.txt\", \"w\", newline=\"\") as soubor:\n",
    "    soubor.write(\"qwertzuiop\\n\")\n",
    "    for i in range(11):\n",
    "        soubor.write(f\"{i}\\t{i**2}\\t{i**(1/2)}\\n\")"
   ]
  },
  {
   "attachments": {},
   "cell_type": "markdown",
   "metadata": {},
   "source": [
    "# Domácí úkol:\n",
    "Pomocí vlastních tříd a dědičnosti vytvořte \"soubor tříd\" = nástroj pro derivaci funkcí.\n",
    "\n",
    "Konkrétněji:\n",
    "- Vytvořte třídu **Operator**\n",
    "    - Třída bude mít metody:\n",
    "        - `__init__()` - inicializuje operátor (zde stačí `pass`)\n",
    "        - `__str__()` - vrací řetězec reprezentující operátor\n",
    "        - `__repr__()` - vrací řetězec reprezentující operátor\n",
    "- Vytvořte třídu **BinaryOperator**, která bude dědit od třídy Operator\n",
    "    - Třída bude mít atributy:\n",
    "        - `levy_argument` - levý operand\n",
    "        - `pravy_argument` - pravý operand\n",
    "    - Třída bude mít metody:\n",
    "        - `__init__()` - inicializuje operátor, přiřadí argumenty\n",
    "        - `__str__()` - vrací řetězec reprezentující operátor\n",
    "        - `__repr__()` - vrací řetězec reprezentující operátor\n",
    "        - `diff()` - vrací derivaci operátoru\n",
    "- Vytvořte třídu **UnaryOperator**, která bude dědit od třídy Operator\n",
    "    - Třída bude mít atributy:\n",
    "        - `argument` - argument funkce \n",
    "    - Třída bude mít metody:\n",
    "        - `__init__()` - inicializuje operátor, přiřadí argument\n",
    "        - `__str__()` - vrací řetězec reprezentující operátor\n",
    "        - `__repr__()` - vrací řetězec reprezentující operátor\n",
    "        - `diff()` - vrací derivaci operátoru\n",
    "\n",
    "Pro počítání derivací použijte standardní pravidla:\n",
    "- derivace součtu je součet derivací\n",
    "- pravidlo pro derivaci součinu\n",
    "- derivace funkce je derivovaná funkce násobená derivovaným argumentem\n",
    "\n",
    "Pro **BinaryOperator** a **UnaryOperator** implementujte také metody implementující standardní operátory:\n",
    "- `__add__()` - implementuje operátor `+`\n",
    "- `__sub__()` - implementuje operátor `-`\n",
    "- `__mul__()` - implementuje operátor `*`\n",
    "\n",
    "Pro **BinaryOperator** implementujte dvě dceřiné třídy:\n",
    "- **Addition** - implementuje operátor `+`\n",
    "- **Multiplication** - implementuje operátor `*`\n",
    "\n",
    "Pro **UnaryOperator** implementujte tyto dceřiné třídy:\n",
    "- **exp** - implementuje funkci `exp`\n",
    "- **sin** - implementuje funkci `sin`\n",
    "- **cos** - implementuje funkci `cos`\n",
    "- **ln** - implementuje funkci `ln`\n",
    "- **frc** - implementuje funkci `1/x`\n",
    "- **identity** - implementuje identitu `x`\n",
    "- **cst** - implementuje konstantu `c`\n",
    "- **mocnina** - implementuje mocninu `x^n`\n",
    "\n",
    "U všech funckí implementujte adekvátně metodu `diff()` a `__str__()`, tak aby se funkce vypisovaly v přehledné podobě.\n",
    "\n",
    "Ozkoušejte na následujících funkcích:\n",
    "- $sin(x + cos(x*x)) + 1$\n",
    "- $x^2 + 2x + 1 + 2x^2$\n",
    "- $x^2 + 2x + exp(x)$"
   ]
  },
  {
   "cell_type": "code",
   "execution_count": 12,
   "metadata": {},
   "outputs": [
    {
     "name": "stdout",
     "output_type": "stream",
     "text": [
      "Atribut ma hodnotu:  Ahoj\n",
      "Ahoj\n"
     ]
    }
   ],
   "source": [
    "# ukázka jednoduché třídy MojeTrida\n",
    "class MojeTrida:\n",
    "    def __init__(self, muj_parametr):\n",
    "        self.muj_parametr = muj_parametr # atribut\n",
    "\n",
    "    def vypis_muj_parametr(self): # metoda\n",
    "        print(\"Atribut ma hodnotu: \", self.muj_parametr)\n",
    "        \n",
    "objekt_tridy = MojeTrida(\"Ahoj\") # vytvoření objektu pomocí konstruktoru\n",
    "\n",
    "objekt_tridy.vypis_muj_parametr() # volání metody\n",
    "\n",
    "print(objekt_tridy.muj_parametr) # přístup k atributu"
   ]
  },
  {
   "cell_type": "code",
   "execution_count": 18,
   "metadata": {},
   "outputs": [
    {
     "name": "stdout",
     "output_type": "stream",
     "text": [
      "Toto je objekt tridy MojeTrida\n",
      "Toto je objekt tridy MojeTrida\n",
      "MojeTrida s parametrem: Ahoj\n"
     ]
    },
    {
     "data": {
      "text/plain": [
       "MojeTrida s parametrem: Ahoj"
      ]
     },
     "execution_count": 18,
     "metadata": {},
     "output_type": "execute_result"
    }
   ],
   "source": [
    "# ukázka __str__ a __repr__\n",
    "# rozdíl mezi __str__ a __repr__ je v tom, že __str__ je volána při převodu objektu na řetězec \n",
    "# a __repr__ je volána při výpisu objektu (např. v interaktivním režimu)\n",
    "class MojeTrida:\n",
    "    def __init__(self, muj_parametr):\n",
    "        self.muj_parametr = muj_parametr\n",
    "\n",
    "    def __str__(self):\n",
    "        return \"Toto je objekt tridy MojeTrida\"\n",
    "\n",
    "    def __repr__(self):\n",
    "        return \"MojeTrida s parametrem: \" + str(self.muj_parametr)\n",
    "    \n",
    "objekt_tridy = MojeTrida(\"Ahoj\")\n",
    "print(objekt_tridy)\n",
    "print(str(objekt_tridy))\n",
    "print(repr(objekt_tridy))\n",
    "objekt_tridy"
   ]
  },
  {
   "cell_type": "code",
   "execution_count": 166,
   "metadata": {},
   "outputs": [],
   "source": [
    "# kostra k doplnění, místa označená TODO doplňte\n",
    "\n",
    "class Opertor:\n",
    "    def __init__(self):\n",
    "        pass\n",
    "    \n",
    "    def __str__(self):\n",
    "        return type(self).__name__\n",
    "    \n",
    "    def __repr__(self):\n",
    "        return self.__str__()\n",
    "    \n",
    "    def diff(self):\n",
    "        pass\n",
    "    \n",
    "    def __add__(self, other):\n",
    "        # TODO (použijte Addition)\n",
    "        return Addition(self,other)\n",
    "    \n",
    "    def __sub__(self, other):\n",
    "        # TODO (použijte Addition a Multiplication se zápornou konstantu)\n",
    "        return Addition(self,Multiplication(cst(-1),other))\n",
    "    \n",
    "    def __mul__(self, other):\n",
    "        # TODO (použijte Multiplication)\n",
    "        return Multiplication(self,other)\n",
    "    \n",
    "class BinaryOperator(Opertor):\n",
    "    def __init__(self, levy_argument, pravy_argument):\n",
    "        self.levy_argument = levy_argument\n",
    "        self.pravy_argument = pravy_argument\n",
    "        \n",
    "class UnaryOperator(Opertor):\n",
    "    def __init__(self, argument):\n",
    "        self.argument = argument\n",
    "        \n",
    "class Addition(BinaryOperator):\n",
    "    def __str__(self):\n",
    "        # TODO vypíšeme něco jako (levy_argument)+(pravy_argument)\n",
    "        return str(self.levy_argument) + \" + \" + str(self.pravy_argument)\n",
    "    def diff(self):\n",
    "        # TODO\n",
    "        return Addition(self.levy_argument.diff(), self.pravy_argument.diff())\n",
    "    \n",
    "class Multiplication(BinaryOperator):\n",
    "    def __str__(self):\n",
    "        # TODO vypíšeme něco jako (levy_argument)*(pravy_argument)\n",
    "        return \"(\" + str(self.levy_argument) + \") * (\" + str(self.pravy_argument) + \")\"\n",
    "    def diff(self):\n",
    "        # TODO\n",
    "        return Addition(Multiplication(self.levy_argument.diff(),self.pravy_argument),Multiplication(self.levy_argument,self.pravy_argument.diff()))\n",
    "    \n",
    "class cst(UnaryOperator):\n",
    "    def __init__(self, value):\n",
    "        self.value = value\n",
    "    def __str__(self):\n",
    "        # TODO vypíšeme něco jako value\n",
    "        return str(self.value)\n",
    "    def diff(self):\n",
    "        return 0\n",
    "    \n",
    "class identity(UnaryOperator):\n",
    "    def __init__(self):\n",
    "        pass\n",
    "    def __str__(self):\n",
    "        # TODO vypíšeme něco jako x   \n",
    "        return \"x\"\n",
    "    def diff(self):\n",
    "        # TODO\n",
    "        return 1\n",
    "    \n",
    "class mocnina(UnaryOperator):\n",
    "    def __init__(self, argument, exponent):\n",
    "        self.argument = argument\n",
    "        self.exponent = exponent\n",
    "    def __str__(self):\n",
    "        # TODO vypíšeme něco jako argument^exponent\n",
    "        return \"(\" + str(self.argument) + \")^\" + str(self.exponent)\n",
    "    def diff(self):\n",
    "        # TODO\n",
    "        return Multiplication(Multiplication(self.exponent,mocnina(self.argument,self.exponent-1)), self.argument.diff())\n",
    "    \n",
    "class sin(UnaryOperator):\n",
    "    def __str__(self):\n",
    "        # TODO \n",
    "        return \"sin(\" + str(self.argument) + \")\"\n",
    "    def diff(self):\n",
    "        # TODO\n",
    "        return Multiplication(cos(self.argument),self.argument.diff())\n",
    "\n",
    "class cos(UnaryOperator):\n",
    "    def __str__(self):\n",
    "        # TODO \n",
    "        return \"cos(\" + str(self.argument) + \")\"\n",
    "    def diff(self):\n",
    "        # TODO\n",
    "        return Multiplication(Multiplication(-1,sin(self.argument)),self.argument.diff())\n",
    "\n",
    "class exp(UnaryOperator):\n",
    "    def __str__(self):\n",
    "        # TODO \n",
    "        return \"exp(\" + str(self.argument) + \")\"\n",
    "    def diff(self):\n",
    "        # TODO\n",
    "        return Multiplication(self, self.argument.diff())\n",
    "    \n",
    "class ln(UnaryOperator):\n",
    "    def __str__(self):\n",
    "        # TODO \n",
    "        return \"ln(\" + str(self.argument) + \")\"\n",
    "    def diff(self):\n",
    "        # TODO\n",
    "        return frc(self)\n",
    "\n",
    "class frc(UnaryOperator):\n",
    "    def __str__(self):\n",
    "        # TODO vypíšeme něco jako 1/(argument)\n",
    "        return \"1/\" + str(self.argument)\n",
    "    \n",
    "    def diff(self):\n",
    "        # TODO\n",
    "        return Multiplication(Multiplication(-1,frc(mocnina(self.argument,2))),self.argument.diff())"
   ]
  },
  {
   "cell_type": "code",
   "execution_count": 169,
   "metadata": {},
   "outputs": [
    {
     "name": "stdout",
     "output_type": "stream",
     "text": [
      "((-1) * (1/(sin((5) * (x)))^2)) * ((cos((5) * (x))) * ((0) * (x) + (5) * (1)))\n"
     ]
    }
   ],
   "source": [
    "x = identity()\n",
    "\n",
    "f0 = frc(sin(cst(5) * x))\n",
    "print(f0.diff())"
   ]
  },
  {
   "cell_type": "code",
   "execution_count": 168,
   "metadata": {},
   "outputs": [
    {
     "name": "stdout",
     "output_type": "stream",
     "text": [
      "sin(x + cos((x) * (x))) + 1\n",
      "(cos(x + cos((x) * (x)))) * (1 + ((-1) * (sin((x) * (x)))) * ((1) * (x) + (x) * (1))) + 0\n"
     ]
    }
   ],
   "source": [
    "# takto by se to mělo používat\n",
    "x = identity()\n",
    "# sin(x + cos(x*x)) + 1\n",
    "f1 = sin(x + cos(x*x)) + cst(1)\n",
    "print(f1)\n",
    "print(f1.diff())"
   ]
  },
  {
   "attachments": {},
   "cell_type": "markdown",
   "metadata": {},
   "source": [
    "můj výstup byl:\n",
    "\n",
    "`sin(x + cos((x)*(x))) + 1`\n",
    "\n",
    "`(cos(x + cos((x)*(x))))*(1 + ((-1)*(sin((x)*(x))))*((1)*(x) + (x)*(1))) + 0`"
   ]
  },
  {
   "cell_type": "code",
   "execution_count": 170,
   "metadata": {},
   "outputs": [
    {
     "name": "stdout",
     "output_type": "stream",
     "text": [
      "(x)^2 + (2) * (x) + 1 + (2) * ((x)^2)\n",
      "((2) * ((x)^1)) * (1) + (0) * (x) + (2) * (1) + 0 + (0) * ((x)^2) + (2) * (((2) * ((x)^1)) * (1))\n"
     ]
    }
   ],
   "source": [
    "x = identity()\n",
    "# x ^ 2 + 2x + 1 + 2x ^ 2\n",
    "f2 = mocnina(x,2) + cst(2)*x + cst(1) + cst(2)*mocnina(x,2)\n",
    "print(f2)\n",
    "print(f2.diff())\n"
   ]
  },
  {
   "attachments": {},
   "cell_type": "markdown",
   "metadata": {},
   "source": [
    "můj výstup byl:\n",
    "\n",
    "`(x)^2 + (2)*(x) + 1 + (2)*((x)^2)`\n",
    "\n",
    "`((2)*((x)^1))*(1) + (0)*(x) + (2)*(1) + 0 + (0)*((x)^2) + (2)*(((2)*((x)^1))*(1))`"
   ]
  },
  {
   "cell_type": "code",
   "execution_count": 153,
   "metadata": {},
   "outputs": [
    {
     "name": "stdout",
     "output_type": "stream",
     "text": [
      "(x)^2 + (2)*(x) + exp(x)\n",
      "((2)*((x)^1))*(1) + (0)*(x) + (2)*(1) + (exp(x))*(1)\n"
     ]
    }
   ],
   "source": [
    "x = identity()\n",
    "# x ^ 2 + 2x + exp(x)\n",
    "f3 = mocnina(x,2) + cst(2)*x + exp(x)\n",
    "print(f3)\n",
    "print(f3.diff())\n"
   ]
  },
  {
   "attachments": {},
   "cell_type": "markdown",
   "metadata": {},
   "source": [
    "můj výstup byl:\n",
    "\n",
    "`(x)^2 + (2)*(x) + exp(x)`\n",
    "\n",
    "`((2)*((x)^1))*(1) + (0)*(x) + (2)*(1) + (exp(x))*(1)`\n"
   ]
  },
  {
   "attachments": {},
   "cell_type": "markdown",
   "metadata": {},
   "source": [
    "# Bonusový úkol:\n",
    "Doplňte ke všem třídám metodu `simplify()`, která provede zjednodušení výrazu. Například:\n",
    "- součet s nulou vrátí druhý operand\n",
    "- součin s nulou vrátí nulu\n",
    "- mocnina s exponentem 0 vrátí 1\n",
    "- mocnina s exponentem 1 vrátí první argument\n",
    "- součín dvou stejných argumentů vrátí mocninu s exponentem 2\n",
    "- součin konstant vrátí konstantu se součinem\n",
    "- ..."
   ]
  },
  {
   "cell_type": "markdown",
   "metadata": {},
   "source": []
  }
 ],
 "metadata": {
  "kernelspec": {
   "display_name": "Python 3",
   "language": "python",
   "name": "python3"
  },
  "language_info": {
   "codemirror_mode": {
    "name": "ipython",
    "version": 3
   },
   "file_extension": ".py",
   "mimetype": "text/x-python",
   "name": "python",
   "nbconvert_exporter": "python",
   "pygments_lexer": "ipython3",
   "version": "3.9.13"
  },
  "orig_nbformat": 4,
  "vscode": {
   "interpreter": {
    "hash": "e7370f93d1d0cde622a1f8e1c04877d8463912d04d973331ad4851f04de6915a"
   }
  }
 },
 "nbformat": 4,
 "nbformat_minor": 2
}
